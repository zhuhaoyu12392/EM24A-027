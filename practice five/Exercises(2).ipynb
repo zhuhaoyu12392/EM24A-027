{
 "cells": [
  {
   "cell_type": "markdown",
   "metadata": {},
   "source": [
    "# Ex1 - Filtering and Sorting Data"
   ]
  },
  {
   "cell_type": "markdown",
   "metadata": {},
   "source": [
    "This time we are going to pull data directly from the internet.\n",
    "Special thanks to: https://github.com/justmarkham for sharing the dataset and materials.\n",
    "\n",
    "### Step 1. Import the necessary libraries"
   ]
  },
  {
   "cell_type": "markdown",
   "metadata": {},
   "source": [
    "### Step 2. Import the dataset from this [address](https://raw.githubusercontent.com/justmarkham/DAT8/master/data/chipotle.tsv). "
   ]
  },
  {
   "cell_type": "code",
   "execution_count": 17,
   "metadata": {},
   "outputs": [
    {
     "name": "stdout",
     "output_type": "stream",
     "text": [
      "   order_id  quantity                              item_name  \\\n",
      "0         1         1           Chips and Fresh Tomato Salsa   \n",
      "1         1         1                                   Izze   \n",
      "2         1         1                       Nantucket Nectar   \n",
      "3         1         1  Chips and Tomatillo-Green Chili Salsa   \n",
      "4         2         2                           Chicken Bowl   \n",
      "\n",
      "                                  choice_description item_price  \n",
      "0                                                NaN     $2.39   \n",
      "1                                       [Clementine]     $3.39   \n",
      "2                                            [Apple]     $3.39   \n",
      "3                                                NaN     $2.39   \n",
      "4  [Tomatillo-Red Chili Salsa (Hot), [Black Beans...    $16.98   \n"
     ]
    }
   ],
   "source": [
    "import pandas as pd\n",
    "# Import the dataset from the provided URL and assign it to a DataFrame\n",
    "chipotle = pd.read_csv('https://raw.githubusercontent.com/justmarkham/DAT8/master/data/chipotle.tsv', sep='\\t')\n",
    "\n",
    "# Display the first few rows to confirm\n",
    "print(chipotle.head())\n"
   ]
  },
  {
   "cell_type": "markdown",
   "metadata": {},
   "source": [
    "### Step 3. Assign it to a variable called chipo."
   ]
  },
  {
   "cell_type": "code",
   "execution_count": 18,
   "metadata": {
    "collapsed": false
   },
   "outputs": [
    {
     "name": "stdout",
     "output_type": "stream",
     "text": [
      "   order_id  quantity                              item_name  \\\n",
      "0         1         1           Chips and Fresh Tomato Salsa   \n",
      "1         1         1                                   Izze   \n",
      "2         1         1                       Nantucket Nectar   \n",
      "3         1         1  Chips and Tomatillo-Green Chili Salsa   \n",
      "4         2         2                           Chicken Bowl   \n",
      "\n",
      "                                  choice_description item_price  \n",
      "0                                                NaN     $2.39   \n",
      "1                                       [Clementine]     $3.39   \n",
      "2                                            [Apple]     $3.39   \n",
      "3                                                NaN     $2.39   \n",
      "4  [Tomatillo-Red Chili Salsa (Hot), [Black Beans...    $16.98   \n"
     ]
    }
   ],
   "source": [
    "# Import the dataset and assign it to a variable called 'chipo'\n",
    "chipo = pd.read_csv('https://raw.githubusercontent.com/justmarkham/DAT8/master/data/chipotle.tsv', sep='\\t')\n",
    "chipo = pd.read_csv(url, sep='\\t')\n",
    "# Display the first few rows to confirm\n",
    "print(chipo.head())\n"
   ]
  },
  {
   "cell_type": "markdown",
   "metadata": {},
   "source": [
    "### Step 4. How many products cost more than $10.00?"
   ]
  },
  {
   "cell_type": "code",
   "execution_count": 19,
   "metadata": {
    "collapsed": false
   },
   "outputs": [
    {
     "name": "stdout",
     "output_type": "stream",
     "text": [
      "The number of products that cost more than $10.00 is: 12\n"
     ]
    }
   ],
   "source": [
    "# Step 1: Clean the 'item_price' column and convert it to a float\n",
    "chipo['item_price'] = chipo['item_price'].replace({'\\$': ''}, regex=True).astype(float)\n",
    "\n",
    "# Step 2: Remove duplicates based on 'item_name' and 'quantity'\n",
    "chipo_cleaned = chipo.drop_duplicates(subset=['item_name', 'quantity'])\n",
    "\n",
    "# Step 3: Filter the dataset to include only rows where 'quantity' equals 1\n",
    "chipo_single_item = chipo_cleaned[chipo_cleaned['quantity'] == 1]\n",
    "\n",
    "# Step 4: Find how many products cost more than $10.00\n",
    "expensive_products = chipo_single_item[chipo_single_item['item_price'] > 10.00]\n",
    "\n",
    "# Count the number of unique products that cost more than $10.00\n",
    "num_expensive_products = expensive_products['item_name'].nunique()\n",
    "\n",
    "# Print the result\n",
    "print(f\"The number of products that cost more than $10.00 is: {num_expensive_products}\")\n"
   ]
  },
  {
   "cell_type": "markdown",
   "metadata": {},
   "source": [
    "### Step 5. What is the price of each item? \n",
    "###### print a data frame with only two columns item_name and item_price"
   ]
  },
  {
   "cell_type": "code",
   "execution_count": 20,
   "metadata": {
    "collapsed": false
   },
   "outputs": [
    {
     "name": "stdout",
     "output_type": "stream",
     "text": [
      "                                  item_name  item_price\n",
      "1132                    Carnitas Salad Bowl       11.89\n",
      "1229                    Barbacoa Salad Bowl       11.89\n",
      "606                        Steak Salad Bowl       11.89\n",
      "39                            Barbacoa Bowl       11.75\n",
      "7                             Steak Burrito       11.75\n",
      "168                   Barbacoa Crispy Tacos       11.75\n",
      "57                           Veggie Burrito       11.25\n",
      "62                              Veggie Bowl       11.25\n",
      "186                       Veggie Salad Bowl       11.25\n",
      "738                       Veggie Soft Tacos       11.25\n",
      "250                           Chicken Salad       10.98\n",
      "5                              Chicken Bowl       10.98\n",
      "8                          Steak Soft Tacos        9.25\n",
      "92                       Steak Crispy Tacos        9.25\n",
      "554                   Carnitas Crispy Tacos        9.25\n",
      "237                     Carnitas Soft Tacos        9.25\n",
      "56                      Barbacoa Soft Tacos        9.25\n",
      "33                            Carnitas Bowl        8.99\n",
      "664                             Steak Salad        8.99\n",
      "21                         Barbacoa Burrito        8.99\n",
      "3750                         Carnitas Salad        8.99\n",
      "54                               Steak Bowl        8.99\n",
      "27                         Carnitas Burrito        8.99\n",
      "44                       Chicken Salad Bowl        8.75\n",
      "11                     Chicken Crispy Tacos        8.75\n",
      "12                       Chicken Soft Tacos        8.75\n",
      "1653                    Veggie Crispy Tacos        8.49\n",
      "16                          Chicken Burrito        8.49\n",
      "1694                           Veggie Salad        8.49\n",
      "1414                                  Salad        7.40\n",
      "673                                    Bowl        7.40\n",
      "520                            Crispy Tacos        7.40\n",
      "510                                 Burrito        7.40\n",
      "298                       6 Pack Soft Drink        6.49\n",
      "10                      Chips and Guacamole        4.45\n",
      "2                          Nantucket Nectar        3.39\n",
      "1                                      Izze        3.39\n",
      "674       Chips and Mild Fresh Tomato Salsa        3.00\n",
      "233      Chips and Roasted Chili Corn Salsa        2.95\n",
      "38    Chips and Tomatillo Green Chili Salsa        2.95\n",
      "111     Chips and Tomatillo Red Chili Salsa        2.95\n",
      "0              Chips and Fresh Tomato Salsa        2.39\n",
      "191      Chips and Roasted Chili-Corn Salsa        2.39\n",
      "300     Chips and Tomatillo-Red Chili Salsa        2.39\n",
      "3     Chips and Tomatillo-Green Chili Salsa        2.39\n",
      "40                                    Chips        2.15\n",
      "6                             Side of Chips        1.69\n",
      "263                       Canned Soft Drink        1.25\n",
      "34                            Bottled Water        1.09\n",
      "28                              Canned Soda        1.09\n"
     ]
    }
   ],
   "source": [
    "# Step 1: Remove duplicates based on 'item_name' and 'quantity'\n",
    "chipo_cleaned = chipo.drop_duplicates(subset=['item_name', 'quantity'])\n",
    "\n",
    "# Step 2: Select only the rows where 'quantity' equals 1\n",
    "chipo_single_item = chipo_cleaned[chipo_cleaned['quantity'] == 1]\n",
    "\n",
    "# Step 3: Select only the 'item_name' and 'item_price' columns\n",
    "chipo_price_df = chipo_single_item[['item_name', 'item_price']]\n",
    "\n",
    "# Step 4: Sort the values by 'item_price' from most to least expensive\n",
    "chipo_price_df_sorted = chipo_price_df.sort_values(by='item_price', ascending=False)\n",
    "\n",
    "# Print the resulting DataFrame\n",
    "print(chipo_price_df_sorted)\n"
   ]
  },
  {
   "cell_type": "markdown",
   "metadata": {},
   "source": [
    "### Step 6. Sort by the name of the item"
   ]
  },
  {
   "cell_type": "code",
   "execution_count": 25,
   "metadata": {
    "collapsed": false
   },
   "outputs": [
    {
     "name": "stdout",
     "output_type": "stream",
     "text": [
      "      order_id  quantity          item_name  \\\n",
      "3389      1360         2  6 Pack Soft Drink   \n",
      "341        148         1  6 Pack Soft Drink   \n",
      "1849       749         1  6 Pack Soft Drink   \n",
      "1860       754         1  6 Pack Soft Drink   \n",
      "2713      1076         1  6 Pack Soft Drink   \n",
      "...        ...       ...                ...   \n",
      "2384       948         1  Veggie Soft Tacos   \n",
      "781        322         1  Veggie Soft Tacos   \n",
      "2851      1132         1  Veggie Soft Tacos   \n",
      "1699       688         1  Veggie Soft Tacos   \n",
      "1395       567         1  Veggie Soft Tacos   \n",
      "\n",
      "                                     choice_description  item_price  \n",
      "3389                                        [Diet Coke]       12.98  \n",
      "341                                         [Diet Coke]        6.49  \n",
      "1849                                             [Coke]        6.49  \n",
      "1860                                        [Diet Coke]        6.49  \n",
      "2713                                             [Coke]        6.49  \n",
      "...                                                 ...         ...  \n",
      "2384  [Roasted Chili Corn Salsa, [Fajita Vegetables,...        8.75  \n",
      "781   [Fresh Tomato Salsa, [Black Beans, Cheese, Sou...        8.75  \n",
      "2851  [Roasted Chili Corn Salsa (Medium), [Black Bea...        8.49  \n",
      "1699  [Fresh Tomato Salsa, [Fajita Vegetables, Rice,...       11.25  \n",
      "1395  [Fresh Tomato Salsa (Mild), [Pinto Beans, Rice...        8.49  \n",
      "\n",
      "[4622 rows x 5 columns]\n"
     ]
    }
   ],
   "source": [
    "# Step 6: Sort the DataFrame by 'item_name' (no restriction on the number of rows)\n",
    "sorted_chipotle = chipotle.sort_values(by='item_name')\n",
    "\n",
    "# Display the entire DataFrame with the specified columns\n",
    "print(sorted_chipotle[['order_id', 'quantity', 'item_name', 'choice_description', 'item_price']])\n"
   ]
  },
  {
   "cell_type": "markdown",
   "metadata": {},
   "source": [
    "### Step 7. What was the quantity of the most expensive item ordered?"
   ]
  },
  {
   "cell_type": "code",
   "execution_count": 24,
   "metadata": {
    "collapsed": false
   },
   "outputs": [
    {
     "name": "stdout",
     "output_type": "stream",
     "text": [
      "The quantity of the most expensive item ordered is: 15\n"
     ]
    }
   ],
   "source": [
    "# Step 7: Find the quantity of the most expensive item ordered\n",
    "\n",
    "# Ensure 'item_price' is numeric by removing any non-numeric characters\n",
    "chipotle['item_price'] = chipotle['item_price'].replace({'\\$': '', ',': ''}, regex=True).astype(float)\n",
    "\n",
    "# Find the most expensive item\n",
    "most_expensive_item = chipotle.loc[chipotle['item_price'].idxmax()]\n",
    "\n",
    "# Extract the quantity of the most expensive item ordered\n",
    "most_expensive_item_quantity = most_expensive_item['quantity']\n",
    "\n",
    "# Print the result\n",
    "print(f\"The quantity of the most expensive item ordered is: {most_expensive_item_quantity}\")\n"
   ]
  },
  {
   "cell_type": "markdown",
   "metadata": {},
   "source": [
    "### Step 8. How many times was a Veggie Salad Bowl ordered?"
   ]
  },
  {
   "cell_type": "code",
   "execution_count": 26,
   "metadata": {
    "collapsed": false
   },
   "outputs": [
    {
     "name": "stdout",
     "output_type": "stream",
     "text": [
      "The 'Veggie Salad Bowl' was ordered 18 times.\n"
     ]
    }
   ],
   "source": [
    "# Step 8: Count how many times 'Veggie Salad Bowl' was ordered\n",
    "veggie_salad_bowl_count = chipotle[chipotle['item_name'] == 'Veggie Salad Bowl'].shape[0]\n",
    "\n",
    "# Print the result\n",
    "print(\"The 'Veggie Salad Bowl' was ordered\", veggie_salad_bowl_count, \"times.\")\n"
   ]
  },
  {
   "cell_type": "markdown",
   "metadata": {},
   "source": [
    "### Step 9. How many times did someone order more than one Canned Soda?"
   ]
  },
  {
   "cell_type": "code",
   "execution_count": 27,
   "metadata": {
    "collapsed": false
   },
   "outputs": [
    {
     "name": "stdout",
     "output_type": "stream",
     "text": [
      "The 'Canned Soda' was ordered more than once 20 times.\n"
     ]
    }
   ],
   "source": [
    "# Step 9: Count how many times someone ordered more than one Canned Soda\n",
    "canned_soda_multiple_order = chipotle[(chipotle['item_name'] == 'Canned Soda') & (chipotle['quantity'] > 1)]\n",
    "\n",
    "# Get the number of such orders\n",
    "canned_soda_multiple_order_count = canned_soda_multiple_order.shape[0]\n",
    "\n",
    "# Print the result\n",
    "print(\"The 'Canned Soda' was ordered more than once\", canned_soda_multiple_order_count, \"times.\")\n"
   ]
  }
 ],
 "metadata": {
  "kernelspec": {
   "display_name": "Python 3",
   "language": "python",
   "name": "python3"
  },
  "language_info": {
   "codemirror_mode": {
    "name": "ipython",
    "version": 3
   },
   "file_extension": ".py",
   "mimetype": "text/x-python",
   "name": "python",
   "nbconvert_exporter": "python",
   "pygments_lexer": "ipython3",
   "version": "3.10.7"
  }
 },
 "nbformat": 4,
 "nbformat_minor": 0
}
