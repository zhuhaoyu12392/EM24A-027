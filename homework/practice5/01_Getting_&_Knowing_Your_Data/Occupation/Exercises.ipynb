{
 "cells": [
  {
   "cell_type": "markdown",
   "metadata": {},
   "source": [
    "# Exercise 1"
   ]
  },
  {
   "cell_type": "markdown",
   "metadata": {},
   "source": [
    "### Step 1. Go to https://www.kaggle.com/openfoodfacts/world-food-facts/data"
   ]
  },
  {
   "cell_type": "markdown",
   "metadata": {},
   "source": [
    "### Step 2. Download the dataset to your computer and unzip it."
   ]
  },
  {
   "cell_type": "markdown",
   "metadata": {},
   "source": [
    "### Step 3. Use the tsv file and assign it to a dataframe called food"
   ]
  },
  {
   "cell_type": "code",
   "execution_count": 4,
   "metadata": {
    "collapsed": true
   },
   "outputs": [
    {
     "name": "stderr",
     "output_type": "stream",
     "text": [
      "C:\\Users\\26768\\AppData\\Local\\Temp\\ipykernel_12688\\554649304.py:3: DtypeWarning: Columns (0,3,5,19,20,24,25,26,27,28,36,37,38,39,48) have mixed types. Specify dtype option on import or set low_memory=False.\n",
      "  food = pd.read_csv('en.openfoodfacts.org.products.tsv', sep='\\t')\n"
     ]
    },
    {
     "name": "stdout",
     "output_type": "stream",
     "text": [
      "    code                                                url  \\\n",
      "0   3087  http://world-en.openfoodfacts.org/product/0000...   \n",
      "1   4530  http://world-en.openfoodfacts.org/product/0000...   \n",
      "2   4559  http://world-en.openfoodfacts.org/product/0000...   \n",
      "3  16087  http://world-en.openfoodfacts.org/product/0000...   \n",
      "4  16094  http://world-en.openfoodfacts.org/product/0000...   \n",
      "\n",
      "                      creator   created_t      created_datetime  \\\n",
      "0  openfoodfacts-contributors  1474103866  2016-09-17T09:17:46Z   \n",
      "1             usda-ndb-import  1489069957  2017-03-09T14:32:37Z   \n",
      "2             usda-ndb-import  1489069957  2017-03-09T14:32:37Z   \n",
      "3             usda-ndb-import  1489055731  2017-03-09T10:35:31Z   \n",
      "4             usda-ndb-import  1489055653  2017-03-09T10:34:13Z   \n",
      "\n",
      "  last_modified_t last_modified_datetime                    product_name  \\\n",
      "0      1474103893   2016-09-17T09:18:13Z              Farine de blé noir   \n",
      "1      1489069957   2017-03-09T14:32:37Z  Banana Chips Sweetened (Whole)   \n",
      "2      1489069957   2017-03-09T14:32:37Z                         Peanuts   \n",
      "3      1489055731   2017-03-09T10:35:31Z          Organic Salted Nut Mix   \n",
      "4      1489055653   2017-03-09T10:34:13Z                 Organic Polenta   \n",
      "\n",
      "  generic_name quantity  ... fruits-vegetables-nuts_100g  \\\n",
      "0          NaN      1kg  ...                         NaN   \n",
      "1          NaN      NaN  ...                         NaN   \n",
      "2          NaN      NaN  ...                         NaN   \n",
      "3          NaN      NaN  ...                         NaN   \n",
      "4          NaN      NaN  ...                         NaN   \n",
      "\n",
      "  fruits-vegetables-nuts-estimate_100g collagen-meat-protein-ratio_100g  \\\n",
      "0                                  NaN                              NaN   \n",
      "1                                  NaN                              NaN   \n",
      "2                                  NaN                              NaN   \n",
      "3                                  NaN                              NaN   \n",
      "4                                  NaN                              NaN   \n",
      "\n",
      "  cocoa_100g chlorophyl_100g carbon-footprint_100g nutrition-score-fr_100g  \\\n",
      "0        NaN             NaN                   NaN                     NaN   \n",
      "1        NaN             NaN                   NaN                    14.0   \n",
      "2        NaN             NaN                   NaN                     0.0   \n",
      "3        NaN             NaN                   NaN                    12.0   \n",
      "4        NaN             NaN                   NaN                     NaN   \n",
      "\n",
      "  nutrition-score-uk_100g glycemic-index_100g water-hardness_100g  \n",
      "0                     NaN                 NaN                 NaN  \n",
      "1                    14.0                 NaN                 NaN  \n",
      "2                     0.0                 NaN                 NaN  \n",
      "3                    12.0                 NaN                 NaN  \n",
      "4                     NaN                 NaN                 NaN  \n",
      "\n",
      "[5 rows x 163 columns]\n"
     ]
    }
   ],
   "source": [
    "import pandas as pd\n",
    "# Import the dataset from the local tsv file and assign it to a DataFrame called 'food'\n",
    "food = pd.read_csv('en.openfoodfacts.org.products.tsv', sep='\\t')\n",
    "\n",
    "# Display the first few rows of the dataset to confirm\n",
    "print(food.head())\n",
    "\n"
   ]
  },
  {
   "cell_type": "markdown",
   "metadata": {},
   "source": [
    "### Step 4. See the first 5 entries"
   ]
  },
  {
   "cell_type": "code",
   "execution_count": 5,
   "metadata": {
    "collapsed": true
   },
   "outputs": [
    {
     "name": "stdout",
     "output_type": "stream",
     "text": [
      "    code                                                url  \\\n",
      "0   3087  http://world-en.openfoodfacts.org/product/0000...   \n",
      "1   4530  http://world-en.openfoodfacts.org/product/0000...   \n",
      "2   4559  http://world-en.openfoodfacts.org/product/0000...   \n",
      "3  16087  http://world-en.openfoodfacts.org/product/0000...   \n",
      "4  16094  http://world-en.openfoodfacts.org/product/0000...   \n",
      "\n",
      "                      creator   created_t      created_datetime  \\\n",
      "0  openfoodfacts-contributors  1474103866  2016-09-17T09:17:46Z   \n",
      "1             usda-ndb-import  1489069957  2017-03-09T14:32:37Z   \n",
      "2             usda-ndb-import  1489069957  2017-03-09T14:32:37Z   \n",
      "3             usda-ndb-import  1489055731  2017-03-09T10:35:31Z   \n",
      "4             usda-ndb-import  1489055653  2017-03-09T10:34:13Z   \n",
      "\n",
      "  last_modified_t last_modified_datetime                    product_name  \\\n",
      "0      1474103893   2016-09-17T09:18:13Z              Farine de blé noir   \n",
      "1      1489069957   2017-03-09T14:32:37Z  Banana Chips Sweetened (Whole)   \n",
      "2      1489069957   2017-03-09T14:32:37Z                         Peanuts   \n",
      "3      1489055731   2017-03-09T10:35:31Z          Organic Salted Nut Mix   \n",
      "4      1489055653   2017-03-09T10:34:13Z                 Organic Polenta   \n",
      "\n",
      "  generic_name quantity  ... fruits-vegetables-nuts_100g  \\\n",
      "0          NaN      1kg  ...                         NaN   \n",
      "1          NaN      NaN  ...                         NaN   \n",
      "2          NaN      NaN  ...                         NaN   \n",
      "3          NaN      NaN  ...                         NaN   \n",
      "4          NaN      NaN  ...                         NaN   \n",
      "\n",
      "  fruits-vegetables-nuts-estimate_100g collagen-meat-protein-ratio_100g  \\\n",
      "0                                  NaN                              NaN   \n",
      "1                                  NaN                              NaN   \n",
      "2                                  NaN                              NaN   \n",
      "3                                  NaN                              NaN   \n",
      "4                                  NaN                              NaN   \n",
      "\n",
      "  cocoa_100g chlorophyl_100g carbon-footprint_100g nutrition-score-fr_100g  \\\n",
      "0        NaN             NaN                   NaN                     NaN   \n",
      "1        NaN             NaN                   NaN                    14.0   \n",
      "2        NaN             NaN                   NaN                     0.0   \n",
      "3        NaN             NaN                   NaN                    12.0   \n",
      "4        NaN             NaN                   NaN                     NaN   \n",
      "\n",
      "  nutrition-score-uk_100g glycemic-index_100g water-hardness_100g  \n",
      "0                     NaN                 NaN                 NaN  \n",
      "1                    14.0                 NaN                 NaN  \n",
      "2                     0.0                 NaN                 NaN  \n",
      "3                    12.0                 NaN                 NaN  \n",
      "4                     NaN                 NaN                 NaN  \n",
      "\n",
      "[5 rows x 163 columns]\n"
     ]
    }
   ],
   "source": [
    "# Display the first 5 rows of the 'food' DataFrame\n",
    "print(food.head())\n"
   ]
  },
  {
   "cell_type": "markdown",
   "metadata": {},
   "source": [
    "### Step 5. What is the number of observations in the dataset?"
   ]
  },
  {
   "cell_type": "code",
   "execution_count": 7,
   "metadata": {},
   "outputs": [
    {
     "name": "stdout",
     "output_type": "stream",
     "text": [
      "The number of observations and columns in the dataset is: (356027, 163)\n"
     ]
    }
   ],
   "source": [
    "# Get the shape of the 'food' DataFrame (number of rows and columns)\n",
    "data_shape = food.shape\n",
    "\n",
    "# Print the shape (number of observations and columns)\n",
    "print(f\"The number of observations and columns in the dataset is: {data_shape}\")\n"
   ]
  },
  {
   "cell_type": "code",
   "execution_count": 6,
   "metadata": {
    "collapsed": true
   },
   "outputs": [
    {
     "name": "stdout",
     "output_type": "stream",
     "text": [
      "The number of observations in the dataset is: 356027\n"
     ]
    }
   ],
   "source": [
    "# Get the number of observations (rows) in the 'food' DataFrame\n",
    "num_observations = food.shape[0]\n",
    "\n",
    "# Print the number of observations\n",
    "print(f\"The number of observations in the dataset is: {num_observations}\")\n"
   ]
  },
  {
   "cell_type": "markdown",
   "metadata": {},
   "source": [
    "### Step 6. What is the number of columns in the dataset?"
   ]
  },
  {
   "cell_type": "code",
   "execution_count": 8,
   "metadata": {
    "collapsed": true
   },
   "outputs": [
    {
     "name": "stdout",
     "output_type": "stream",
     "text": [
      "The number of columns in the dataset is: 163\n"
     ]
    }
   ],
   "source": [
    "# Get the number of columns in the 'food' DataFrame\n",
    "num_columns = food.shape[1]\n",
    "\n",
    "# Print the number of columns\n",
    "print(f\"The number of columns in the dataset is: {num_columns}\")\n"
   ]
  },
  {
   "cell_type": "markdown",
   "metadata": {},
   "source": [
    "### Step 7. Print the name of all the columns."
   ]
  },
  {
   "cell_type": "code",
   "execution_count": 9,
   "metadata": {
    "collapsed": true
   },
   "outputs": [
    {
     "name": "stdout",
     "output_type": "stream",
     "text": [
      "Index(['code', 'url', 'creator', 'created_t', 'created_datetime',\n",
      "       'last_modified_t', 'last_modified_datetime', 'product_name',\n",
      "       'generic_name', 'quantity',\n",
      "       ...\n",
      "       'fruits-vegetables-nuts_100g', 'fruits-vegetables-nuts-estimate_100g',\n",
      "       'collagen-meat-protein-ratio_100g', 'cocoa_100g', 'chlorophyl_100g',\n",
      "       'carbon-footprint_100g', 'nutrition-score-fr_100g',\n",
      "       'nutrition-score-uk_100g', 'glycemic-index_100g',\n",
      "       'water-hardness_100g'],\n",
      "      dtype='object', length=163)\n"
     ]
    }
   ],
   "source": [
    "# Print the names of all the columns in the 'food' DataFrame\n",
    "print(food.columns)\n"
   ]
  },
  {
   "cell_type": "markdown",
   "metadata": {},
   "source": [
    "### Step 8. What is the name of 105th column?"
   ]
  },
  {
   "cell_type": "code",
   "execution_count": 10,
   "metadata": {
    "collapsed": true
   },
   "outputs": [
    {
     "name": "stdout",
     "output_type": "stream",
     "text": [
      "The name of the 105th column is: -glucose_100g\n"
     ]
    }
   ],
   "source": [
    "# Get the name of the 105th column (index 104)\n",
    "column_name = food.columns[104]\n",
    "\n",
    "# Print the name of the 105th column\n",
    "print(f\"The name of the 105th column is: {column_name}\")\n"
   ]
  },
  {
   "cell_type": "markdown",
   "metadata": {},
   "source": [
    "### Step 9. What is the type of the observations of the 105th column?"
   ]
  },
  {
   "cell_type": "code",
   "execution_count": 11,
   "metadata": {
    "collapsed": true
   },
   "outputs": [
    {
     "name": "stdout",
     "output_type": "stream",
     "text": [
      "The type of the observations in the 105th column is: float64\n"
     ]
    }
   ],
   "source": [
    "# Get the type of the observations in the 105th column (index 104)\n",
    "column_type = food.iloc[:, 104].dtype\n",
    "\n",
    "# Print the type of the 105th column\n",
    "print(f\"The type of the observations in the 105th column is: {column_type}\")\n"
   ]
  },
  {
   "cell_type": "markdown",
   "metadata": {},
   "source": [
    "### Step 10. How is the dataset indexed?"
   ]
  },
  {
   "cell_type": "code",
   "execution_count": 12,
   "metadata": {
    "collapsed": true
   },
   "outputs": [
    {
     "name": "stdout",
     "output_type": "stream",
     "text": [
      "The dataset is indexed as: RangeIndex(start=0, stop=356027, step=1)\n"
     ]
    }
   ],
   "source": [
    "# Check how the dataset is indexed\n",
    "index_type = food.index\n",
    "\n",
    "# Print the index of the dataset\n",
    "print(f\"The dataset is indexed as: {index_type}\")\n"
   ]
  },
  {
   "cell_type": "markdown",
   "metadata": {},
   "source": [
    "### Step 11. What is the product name of the 19th observation?"
   ]
  },
  {
   "cell_type": "code",
   "execution_count": 13,
   "metadata": {
    "collapsed": true
   },
   "outputs": [
    {
     "name": "stdout",
     "output_type": "stream",
     "text": [
      "The product name of the 19th observation is: Lotus Organic Brown Jasmine Rice\n"
     ]
    }
   ],
   "source": [
    "# Get the product name of the 19th observation (index 18)\n",
    "product_name_19th = food.iloc[18]['product_name']\n",
    "\n",
    "# Print the product name of the 19th observation\n",
    "print(f\"The product name of the 19th observation is: {product_name_19th}\")\n"
   ]
  }
 ],
 "metadata": {
  "anaconda-cloud": {},
  "kernelspec": {
   "display_name": "Python 3",
   "language": "python",
   "name": "python3"
  },
  "language_info": {
   "codemirror_mode": {
    "name": "ipython",
    "version": 3
   },
   "file_extension": ".py",
   "mimetype": "text/x-python",
   "name": "python",
   "nbconvert_exporter": "python",
   "pygments_lexer": "ipython3",
   "version": "3.10.7"
  }
 },
 "nbformat": 4,
 "nbformat_minor": 0
}
