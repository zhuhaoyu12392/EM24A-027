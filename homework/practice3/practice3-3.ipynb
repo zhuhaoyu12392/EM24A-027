{
 "cells": [
  {
   "cell_type": "markdown",
   "metadata": {},
   "source": [
    "3."
   ]
  },
  {
   "cell_type": "code",
   "execution_count": 1,
   "metadata": {},
   "outputs": [
    {
     "name": "stdout",
     "output_type": "stream",
     "text": [
      "网页内容加载成功！\n"
     ]
    }
   ],
   "source": [
    "import requests\n",
    " \n",
    "# 定义请求的 URL 和 headers\n",
    "url = \"https://movie.douban.com/top250\"\n",
    "headers = {\n",
    "    \"User-Agent\": \"Mozilla/5.0 (Windows NT 10.0; Win64; x64) AppleWebKit/537.36 (KHTML, like Gecko) Chrome/91.0.4472.124 Safari/537.36\"\n",
    "}\n",
    " \n",
    "# 发送 GET 请求\n",
    "response = requests.get(url, headers=headers)\n",
    "response.encoding = 'utf-8'  # 设置编码方式\n",
    "html_content = response.text  # 获取网页的 HTML 内容\n",
    "print(\"网页内容加载成功！\")"
   ]
  },
  {
   "cell_type": "code",
   "execution_count": 2,
   "metadata": {},
   "outputs": [
    {
     "name": "stdout",
     "output_type": "stream",
     "text": [
      "数据提取成功！\n"
     ]
    }
   ],
   "source": [
    "from bs4 import BeautifulSoup\n",
    " \n",
    "# 使用 Beautiful Soup 解析 HTML\n",
    "soup = BeautifulSoup(html_content, 'html.parser')\n",
    " \n",
    "# 提取电影名称、描述、评分和评价人数\n",
    "movies = []\n",
    "for item in soup.find_all('div', class_='item'):\n",
    "    title = item.find('span', class_='title').get_text()  # 电影名称\n",
    "    description = item.find('span', class_='inq')  # 电影描述\n",
    "    rating = item.find('span', class_='rating_num').get_text()  # 评分\n",
    "    votes = item.find('div', class_='star').find_all('span')[3].get_text()  # 评价人数\n",
    "    \n",
    "    # 如果没有描述，将其置为空字符串\n",
    "    if description:\n",
    "        description = description.get_text()\n",
    "    else:\n",
    "        description = ''\n",
    "    \n",
    "    movie = {\n",
    "        \"title\": title,\n",
    "        \"description\": description,\n",
    "        \"rating\": rating,\n",
    "        \"votes\": votes.replace('人评价', '').strip()\n",
    "    }\n",
    "    movies.append(movie)\n",
    " \n",
    "print(\"数据提取成功！\")"
   ]
  },
  {
   "cell_type": "code",
   "execution_count": 3,
   "metadata": {},
   "outputs": [
    {
     "name": "stdout",
     "output_type": "stream",
     "text": [
      "数据已成功保存到 data\\douban_top250.csv\n"
     ]
    }
   ],
   "source": [
    "import csv\n",
    " \n",
    "# 将数据保存到 CSV 文件\n",
    "with open('data\\douban_top250.csv', 'w', newline='', encoding='utf-8') as csvfile:\n",
    "    fieldnames = ['title', 'description', 'rating', 'votes']\n",
    "    writer = csv.DictWriter(csvfile, fieldnames=fieldnames)\n",
    " \n",
    "    writer.writeheader()  # 写入表头\n",
    "    for movie in movies:\n",
    "        writer.writerow(movie)  # 写入每一行数据\n",
    " \n",
    "print(\"数据已成功保存到 data\\douban_top250.csv\")"
   ]
  },
  {
   "cell_type": "code",
   "execution_count": 5,
   "metadata": {},
   "outputs": [
    {
     "name": "stdout",
     "output_type": "stream",
     "text": [
      "        title                      description  rating    votes\n",
      "0      肖申克的救赎                          希望让人自由。     9.7  3086743\n",
      "1        霸王别姬                            风华绝代。     9.6  2278421\n",
      "2        阿甘正传                        一部美国近现代史。     9.5  2297780\n",
      "3       泰坦尼克号                       失去的才是永恒的。      9.5  2338435\n",
      "4        千与千寻                  最好的宫崎骏，最好的久石让。      9.4  2386813\n",
      "5        美丽人生                           最美的谎言。     9.5  1404250\n",
      "6     这个杀手不太冷                  怪蜀黍和小萝莉不得不说的故事。     9.4  2434726\n",
      "7        星际穿越            爱是一种力量，让我们超越时空感知它的存在。     9.4  2010081\n",
      "8        盗梦空间                  诺兰给了我们一场无法盗取的梦。     9.4  2197475\n",
      "9       楚门的世界            如果再也不能见到你，祝你早安，午安，晚安。     9.4  1868113\n",
      "10     辛德勒的名单                  拯救一个人，就是拯救整个世界。     9.5  1187176\n",
      "11    忠犬八公的故事                    永远都不能忘记你所爱的人。     9.4  1469596\n",
      "12      海上钢琴师        每个人都要走一条自己坚定了的路，就算是粉身碎骨。      9.3  1780067\n",
      "13    三傻大闹宝莱坞                   英俊版憨豆，高情商版谢耳朵。     9.2  1967345\n",
      "14     放牛班的春天              天籁一般的童声，是最接近上帝的存在。      9.3  1395330\n",
      "15     机器人总动员                         小瓦力，大人生。     9.3  1400496\n",
      "16      疯狂动物城  迪士尼给我们营造的乌托邦就是这样，永远善良勇敢，永远出乎意料。     9.2  2096015\n",
      "17        无间道                   香港电影史上永不过时的杰作。     9.3  1467474\n",
      "18       控方证人                       比利·怀德满分作品。     9.6   640164\n",
      "19  大话西游之大圣娶亲                            一生所爱。     9.2  1621517\n",
      "20         熔炉     我们一路奋战不是为了改变世界，而是为了不让世界改变我们。     9.3   986933\n",
      "21         教父            千万不要记恨你的对手，这样会让你失去理智。     9.3  1037883\n",
      "22       触不可及                       满满温情的高雅喜剧。     9.3  1208935\n",
      "23      寻梦环游记              死亡不是真的逝去，遗忘才是永恒的消亡。     9.1  1823049\n",
      "24     当幸福来敲门                          平民励志片。      9.2  1606700\n"
     ]
    }
   ],
   "source": [
    "import pandas as pd\n",
    "\n",
    "df = pd.read_csv('data\\douban_top250.csv')\n",
    "# show\n",
    "print(df)"
   ]
  }
 ],
 "metadata": {
  "kernelspec": {
   "display_name": "Python 3",
   "language": "python",
   "name": "python3"
  },
  "language_info": {
   "codemirror_mode": {
    "name": "ipython",
    "version": 3
   },
   "file_extension": ".py",
   "mimetype": "text/x-python",
   "name": "python",
   "nbconvert_exporter": "python",
   "pygments_lexer": "ipython3",
   "version": "3.10.7"
  }
 },
 "nbformat": 4,
 "nbformat_minor": 2
}
