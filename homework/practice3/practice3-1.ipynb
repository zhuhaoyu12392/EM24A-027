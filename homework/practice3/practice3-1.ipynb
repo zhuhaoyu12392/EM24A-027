{
 "cells": [
  {
   "cell_type": "markdown",
   "metadata": {},
   "source": [
    "1."
   ]
  },
  {
   "cell_type": "code",
   "execution_count": 1,
   "metadata": {},
   "outputs": [],
   "source": [
    "import matplotlib.pyplot as plt\n",
    "import pandas as pd\n",
    "import requests\n",
    "from bs4 import BeautifulSoup\n",
    "import textwrap"
   ]
  },
  {
   "cell_type": "code",
   "execution_count": 2,
   "metadata": {},
   "outputs": [
    {
     "data": {
      "text/html": [
       "<div>\n",
       "<style scoped>\n",
       "    .dataframe tbody tr th:only-of-type {\n",
       "        vertical-align: middle;\n",
       "    }\n",
       "\n",
       "    .dataframe tbody tr th {\n",
       "        vertical-align: top;\n",
       "    }\n",
       "\n",
       "    .dataframe thead th {\n",
       "        text-align: right;\n",
       "    }\n",
       "</style>\n",
       "<table border=\"1\" class=\"dataframe\">\n",
       "  <thead>\n",
       "    <tr style=\"text-align: right;\">\n",
       "      <th></th>\n",
       "      <th>rownames</th>\n",
       "      <th>name</th>\n",
       "      <th>year</th>\n",
       "      <th>month</th>\n",
       "      <th>day</th>\n",
       "      <th>hour</th>\n",
       "      <th>lat</th>\n",
       "      <th>long</th>\n",
       "      <th>status</th>\n",
       "      <th>category</th>\n",
       "      <th>wind</th>\n",
       "      <th>pressure</th>\n",
       "      <th>tropicalstorm_force_diameter</th>\n",
       "      <th>hurricane_force_diameter</th>\n",
       "    </tr>\n",
       "  </thead>\n",
       "  <tbody>\n",
       "    <tr>\n",
       "      <th>0</th>\n",
       "      <td>1</td>\n",
       "      <td>Amy</td>\n",
       "      <td>1975</td>\n",
       "      <td>6</td>\n",
       "      <td>27</td>\n",
       "      <td>0</td>\n",
       "      <td>27.5</td>\n",
       "      <td>-79.0</td>\n",
       "      <td>tropical depression</td>\n",
       "      <td>NaN</td>\n",
       "      <td>25</td>\n",
       "      <td>1013</td>\n",
       "      <td>NaN</td>\n",
       "      <td>NaN</td>\n",
       "    </tr>\n",
       "    <tr>\n",
       "      <th>1</th>\n",
       "      <td>2</td>\n",
       "      <td>Amy</td>\n",
       "      <td>1975</td>\n",
       "      <td>6</td>\n",
       "      <td>27</td>\n",
       "      <td>6</td>\n",
       "      <td>28.5</td>\n",
       "      <td>-79.0</td>\n",
       "      <td>tropical depression</td>\n",
       "      <td>NaN</td>\n",
       "      <td>25</td>\n",
       "      <td>1013</td>\n",
       "      <td>NaN</td>\n",
       "      <td>NaN</td>\n",
       "    </tr>\n",
       "    <tr>\n",
       "      <th>2</th>\n",
       "      <td>3</td>\n",
       "      <td>Amy</td>\n",
       "      <td>1975</td>\n",
       "      <td>6</td>\n",
       "      <td>27</td>\n",
       "      <td>12</td>\n",
       "      <td>29.5</td>\n",
       "      <td>-79.0</td>\n",
       "      <td>tropical depression</td>\n",
       "      <td>NaN</td>\n",
       "      <td>25</td>\n",
       "      <td>1013</td>\n",
       "      <td>NaN</td>\n",
       "      <td>NaN</td>\n",
       "    </tr>\n",
       "    <tr>\n",
       "      <th>3</th>\n",
       "      <td>4</td>\n",
       "      <td>Amy</td>\n",
       "      <td>1975</td>\n",
       "      <td>6</td>\n",
       "      <td>27</td>\n",
       "      <td>18</td>\n",
       "      <td>30.5</td>\n",
       "      <td>-79.0</td>\n",
       "      <td>tropical depression</td>\n",
       "      <td>NaN</td>\n",
       "      <td>25</td>\n",
       "      <td>1013</td>\n",
       "      <td>NaN</td>\n",
       "      <td>NaN</td>\n",
       "    </tr>\n",
       "    <tr>\n",
       "      <th>4</th>\n",
       "      <td>5</td>\n",
       "      <td>Amy</td>\n",
       "      <td>1975</td>\n",
       "      <td>6</td>\n",
       "      <td>28</td>\n",
       "      <td>0</td>\n",
       "      <td>31.5</td>\n",
       "      <td>-78.8</td>\n",
       "      <td>tropical depression</td>\n",
       "      <td>NaN</td>\n",
       "      <td>25</td>\n",
       "      <td>1012</td>\n",
       "      <td>NaN</td>\n",
       "      <td>NaN</td>\n",
       "    </tr>\n",
       "    <tr>\n",
       "      <th>5</th>\n",
       "      <td>6</td>\n",
       "      <td>Amy</td>\n",
       "      <td>1975</td>\n",
       "      <td>6</td>\n",
       "      <td>28</td>\n",
       "      <td>6</td>\n",
       "      <td>32.4</td>\n",
       "      <td>-78.7</td>\n",
       "      <td>tropical depression</td>\n",
       "      <td>NaN</td>\n",
       "      <td>25</td>\n",
       "      <td>1012</td>\n",
       "      <td>NaN</td>\n",
       "      <td>NaN</td>\n",
       "    </tr>\n",
       "    <tr>\n",
       "      <th>6</th>\n",
       "      <td>7</td>\n",
       "      <td>Amy</td>\n",
       "      <td>1975</td>\n",
       "      <td>6</td>\n",
       "      <td>28</td>\n",
       "      <td>12</td>\n",
       "      <td>33.3</td>\n",
       "      <td>-78.0</td>\n",
       "      <td>tropical depression</td>\n",
       "      <td>NaN</td>\n",
       "      <td>25</td>\n",
       "      <td>1011</td>\n",
       "      <td>NaN</td>\n",
       "      <td>NaN</td>\n",
       "    </tr>\n",
       "    <tr>\n",
       "      <th>7</th>\n",
       "      <td>8</td>\n",
       "      <td>Amy</td>\n",
       "      <td>1975</td>\n",
       "      <td>6</td>\n",
       "      <td>28</td>\n",
       "      <td>18</td>\n",
       "      <td>34.0</td>\n",
       "      <td>-77.0</td>\n",
       "      <td>tropical depression</td>\n",
       "      <td>NaN</td>\n",
       "      <td>30</td>\n",
       "      <td>1006</td>\n",
       "      <td>NaN</td>\n",
       "      <td>NaN</td>\n",
       "    </tr>\n",
       "    <tr>\n",
       "      <th>8</th>\n",
       "      <td>9</td>\n",
       "      <td>Amy</td>\n",
       "      <td>1975</td>\n",
       "      <td>6</td>\n",
       "      <td>29</td>\n",
       "      <td>0</td>\n",
       "      <td>34.4</td>\n",
       "      <td>-75.8</td>\n",
       "      <td>tropical storm</td>\n",
       "      <td>NaN</td>\n",
       "      <td>35</td>\n",
       "      <td>1004</td>\n",
       "      <td>NaN</td>\n",
       "      <td>NaN</td>\n",
       "    </tr>\n",
       "    <tr>\n",
       "      <th>9</th>\n",
       "      <td>10</td>\n",
       "      <td>Amy</td>\n",
       "      <td>1975</td>\n",
       "      <td>6</td>\n",
       "      <td>29</td>\n",
       "      <td>6</td>\n",
       "      <td>34.0</td>\n",
       "      <td>-74.8</td>\n",
       "      <td>tropical storm</td>\n",
       "      <td>NaN</td>\n",
       "      <td>40</td>\n",
       "      <td>1002</td>\n",
       "      <td>NaN</td>\n",
       "      <td>NaN</td>\n",
       "    </tr>\n",
       "  </tbody>\n",
       "</table>\n",
       "</div>"
      ],
      "text/plain": [
       "   rownames name  year  month  day  hour   lat  long               status  \\\n",
       "0         1  Amy  1975      6   27     0  27.5 -79.0  tropical depression   \n",
       "1         2  Amy  1975      6   27     6  28.5 -79.0  tropical depression   \n",
       "2         3  Amy  1975      6   27    12  29.5 -79.0  tropical depression   \n",
       "3         4  Amy  1975      6   27    18  30.5 -79.0  tropical depression   \n",
       "4         5  Amy  1975      6   28     0  31.5 -78.8  tropical depression   \n",
       "5         6  Amy  1975      6   28     6  32.4 -78.7  tropical depression   \n",
       "6         7  Amy  1975      6   28    12  33.3 -78.0  tropical depression   \n",
       "7         8  Amy  1975      6   28    18  34.0 -77.0  tropical depression   \n",
       "8         9  Amy  1975      6   29     0  34.4 -75.8       tropical storm   \n",
       "9        10  Amy  1975      6   29     6  34.0 -74.8       tropical storm   \n",
       "\n",
       "   category  wind  pressure  tropicalstorm_force_diameter  \\\n",
       "0       NaN    25      1013                           NaN   \n",
       "1       NaN    25      1013                           NaN   \n",
       "2       NaN    25      1013                           NaN   \n",
       "3       NaN    25      1013                           NaN   \n",
       "4       NaN    25      1012                           NaN   \n",
       "5       NaN    25      1012                           NaN   \n",
       "6       NaN    25      1011                           NaN   \n",
       "7       NaN    30      1006                           NaN   \n",
       "8       NaN    35      1004                           NaN   \n",
       "9       NaN    40      1002                           NaN   \n",
       "\n",
       "   hurricane_force_diameter  \n",
       "0                       NaN  \n",
       "1                       NaN  \n",
       "2                       NaN  \n",
       "3                       NaN  \n",
       "4                       NaN  \n",
       "5                       NaN  \n",
       "6                       NaN  \n",
       "7                       NaN  \n",
       "8                       NaN  \n",
       "9                       NaN  "
      ]
     },
     "execution_count": 2,
     "metadata": {},
     "output_type": "execute_result"
    }
   ],
   "source": [
    "pd.read_csv(\n",
    "    \"https://vincentarelbundock.github.io/Rdatasets/csv/dplyr/storms.csv\", nrows=10\n",
    ")"
   ]
  },
  {
   "cell_type": "code",
   "execution_count": 3,
   "metadata": {},
   "outputs": [
    {
     "name": "stdout",
     "output_type": "stream",
     "text": [
      "请求状态码: 404\n",
      "返回的原始内容: This API is being decommissioned as part of a suite of work to improve the digital products and services we offer. It is planned to be fully retired on 25/11/2024. If you have any queries please contact us at apiservice@ons.gov.uk.\n",
      "\n"
     ]
    }
   ],
   "source": [
    "#\n",
    "import requests\n",
    "\n",
    "url = \"https://api.ons.gov.uk/timeseries/JP9Z/dataset/UNEM/data\"\n",
    "\n",
    "response = requests.get(url)\n",
    "\n",
    "print(f\"请求状态码: {response.status_code}\")\n",
    "print(f\"返回的原始内容: {response.text}\")\n",
    "#The interface API is no longer available, so I can't get the data at all!"
   ]
  },
  {
   "cell_type": "markdown",
   "metadata": {},
   "source": [
    "For the above, I made changes to the code. Using the FRED API key, query series_id=“LMJVTTUVGBM647S”, which is the series number of the UK job vacancies (in thousands).167ccd5ae95c579ae64d6b1295c563feThis is Jie Xu's FRED API KEY"
   ]
  },
  {
   "cell_type": "code",
   "execution_count": 4,
   "metadata": {},
   "outputs": [
    {
     "data": {
      "image/png": "[encoded data removed]",
      "text/plain": [
       "<Figure size 1000x500 with 1 Axes>"
      ]
     },
     "metadata": {},
     "output_type": "display_data"
    }
   ],
   "source": [
    "import requests\n",
    "import pandas as pd\n",
    "import matplotlib.pyplot as plt\n",
    "\n",
    "# 替换为你的 FRED API key\n",
    "api_key = \"167ccd5ae95c579ae64d6b1295c563fe\"\n",
    "url = f\"https://api.stlouisfed.org/fred/series/observations?series_id=LMJVTTUVGBM647S&api_key={api_key}&file_type=json\"\n",
    "\n",
    "response = requests.get(url)\n",
    "data = response.json()['observations']\n",
    "\n",
    "# 提取日期和职位空缺数量，过滤掉非数字数据\n",
    "dates = [item['date'] for item in data]\n",
    "values = []\n",
    "for item in data:\n",
    "    try:\n",
    "        values.append(float(item['value']))\n",
    "    except ValueError:\n",
    "        values.append(None)  # 使用 None 表示无效数据\n",
    "\n",
    "# 创建 DataFrame 并去除无效数据\n",
    "df = pd.DataFrame({'Date': dates, 'Vacancies': values})\n",
    "df.dropna(inplace=True)\n",
    "\n",
    "# 绘制折线图\n",
    "plt.figure(figsize=(10, 5))\n",
    "plt.plot(df['Date'], df['Vacancies'], label='UK Job Vacancies (Service Industries)', color='blue')\n",
    "plt.xlabel('Date')\n",
    "plt.ylabel('Vacancies (Thousands)')\n",
    "plt.title('UK Job Vacancies (Service Industries)')\n",
    "plt.xticks(rotation=45)\n",
    "plt.legend()\n",
    "plt.grid()\n",
    "plt.show()\n"
   ]
  },
  {
   "cell_type": "code",
   "execution_count": 5,
   "metadata": {},
   "outputs": [
    {
     "data": {
      "text/plain": [
       "<Axes: title={'center': 'UK unemployment (percent)'}, xlabel='DATE'>"
      ]
     },
     "execution_count": 5,
     "metadata": {},
     "output_type": "execute_result"
    },
    {
     "data": {
      "image/png": "[encoded data removed]",
      "text/plain": [
       "<Figure size 640x480 with 1 Axes>"
      ]
     },
     "metadata": {},
     "output_type": "display_data"
    }
   ],
   "source": [
    "import pandas_datareader.data as web\n",
    "\n",
    "df_u = web.DataReader(\"LRHUTTTTGBM156S\", \"fred\")\n",
    "\n",
    "df_u.plot(title=\"UK unemployment (percent)\", legend=False, ylim=(2, 6), lw=3.0)"
   ]
  },
  {
   "cell_type": "code",
   "execution_count": 6,
   "metadata": {},
   "outputs": [
    {
     "name": "stdout",
     "output_type": "stream",
     "text": [
      "Index(['Indicator', 'Rule', 'Weighted Indicator', '%'], dtype='object')\n"
     ]
    }
   ],
   "source": [
    "import pandas as pd\n",
    "import requests\n",
    "\n",
    "url = \"https://databank.worldbank.org/source/millennium-development-goals/Series/EN.ATM.CO2E.KT\"\n",
    "html = requests.get(url).content\n",
    "df = pd.read_html(html)[0]\n",
    "print(df.columns)"
   ]
  },
  {
   "cell_type": "markdown",
   "metadata": {},
   "source": [
    "First, I went to Getting Data-Coding for Economists based on the code, but could not get the data. Then, I went to https://datacatalog.worldbank.org/indicator/b66c366b-bdce-eb11-bacc-000d3a596ff0/CO2-emissions--metric-tons-per-capita. this site to get the Data and the page keeps reporting an error:\n",
    "An error occurs.\n",
    "This could be due to\n",
    "\n",
    "Our network is unusually busy\n",
    "The server is currently unavailable\n",
    "Please try again later or contact data@worldbank.org\n",
    "\n",
    "Error ID: 9bcb1bcd7bd91946aaddafba37719f72. So I can only use excel sheet."
   ]
  },
  {
   "cell_type": "code",
   "execution_count": 7,
   "metadata": {},
   "outputs": [
    {
     "name": "stdout",
     "output_type": "stream",
     "text": [
      "                   country  year  EN.ATM.CO2E.PC\n",
      "0                    India  2017        1.704927\n",
      "1     East Asia\\n& Pacific  2017        5.960076\n",
      "2  Europe &\\nCentral\\nAsia  2017        6.746232\n",
      "3                    China  2017        7.226160\n",
      "4           United\\nStates  2017       14.823245\n"
     ]
    }
   ],
   "source": [
    "import pandas as pd\n",
    "\n",
    "# 读取Excel文件，假设数据在第一个工作表\n",
    "df = pd.read_excel('data\\EN.ATM.CO2E.PC.xlsx')\n",
    "\n",
    "# 重命名列（如果需要），确保列名与你的要求一致，这里假设原始列名分别为'Country Name'、'Year'、'EN.ATM.CO2E.KT'\n",
    "df.rename(columns={'Country Name': 'country', 'Year': 'year', 'EN.ATM.CO2E.KT': 'EN.ATM.CO2E.PC'}, inplace=True)\n",
    "\n",
    "# 选择需要的列并按照人均二氧化碳排放量排序\n",
    "selected_data = df[['country', 'year', 'EN.ATM.CO2E.PC']].sort_values('EN.ATM.CO2E.PC')\n",
    "\n",
    "# 显示处理后的数据表格\n",
    "print(selected_data)"
   ]
  },
  {
   "cell_type": "code",
   "execution_count": 8,
   "metadata": {},
   "outputs": [
    {
     "data": {
      "image/png": "[encoded data removed]",
      "text/plain": [
       "<Figure size 640x480 with 1 Axes>"
      ]
     },
     "metadata": {},
     "output_type": "display_data"
    }
   ],
   "source": [
    "import seaborn as sns\n",
    "\n",
    "fig, ax = plt.subplots()\n",
    "sns.barplot(x=\"country\", y=\"EN.ATM.CO2E.PC\", data=df.reset_index(), ax=ax)\n",
    "ax.set_title(r\"CO$_2$ (metric tons per capita)\", loc=\"right\")\n",
    "plt.suptitle(\"The USA leads the world on per-capita emissions\", y=1.01)\n",
    "for key, spine in ax.spines.items():\n",
    "    spine.set_visible(False)\n",
    "ax.set_ylabel(\"\")\n",
    "ax.set_xlabel(\"\")\n",
    "ax.yaxis.tick_right()\n",
    "plt.show()"
   ]
  },
  {
   "cell_type": "markdown",
   "metadata": {},
   "source": [
    "For this link: https://stats.oecd.org/SDMX-JSON/data/PDB_LV/GBR+FRA+CAN+ITA+DEU+JPN+USA.T_GDPEMP.CPC/all?startTime=2010 can no longer be found.404 - File or directory not found.\n",
    "The resource you are looking for may have been deleted, renamed, or is temporarily unavailable."
   ]
  },
  {
   "cell_type": "code",
   "execution_count": 9,
   "metadata": {},
   "outputs": [
    {
     "data": {
      "text/plain": [
       "'<!DOCTYPE html>\\n<html xmlns=\"http://www.w3.org/1999/xhtml\" lang=\"en\" xml:lang=\"en\"><head>\\n\\n<meta charset=\"utf-8\">\\n<meta name=\"generator\" content=\"quarto-1.5.56\">\\n\\n<meta name=\"viewport\" content=\"width=device-width, initial-scale=1.0, user-scalable=yes\">\\n\\n<meta name=\"author\" content=\"Arthur Turrell\">\\n'"
      ]
     },
     "execution_count": 9,
     "metadata": {},
     "output_type": "execute_result"
    }
   ],
   "source": [
    "url = \"http://aeturrell.com/research\"\n",
    "page = requests.get(url)\n",
    "page.text[:300]"
   ]
  },
  {
   "cell_type": "code",
   "execution_count": 10,
   "metadata": {},
   "outputs": [
    {
     "name": "stdout",
     "output_type": "stream",
     "text": [
      "       </div>\n",
      "          <div class=\"project-category\">\n",
      "           <a href=\"#category=gender pay gap\">\n",
      "            gender pay gap\n",
      "           </a>\n",
      "          </div>\n",
      "          <div class=\"project-category\">\n",
      "           <a href=\"#category=labour\">\n",
      "            labour\n",
      "           </a>\n",
      "          </div>\n",
      "          <div class=\"project-category\">\n",
      "           <a href=\"#category=text analysis\">\n",
      "            text analysis\n",
      "           </a>\n",
      "          </div>\n",
      "         </div>\n",
      "         <div class=\"project-details-listing\n"
     ]
    }
   ],
   "source": [
    "soup = BeautifulSoup(page.text, \"html.parser\")\n",
    "print(soup.prettify()[60000:60500])"
   ]
  },
  {
   "cell_type": "code",
   "execution_count": 11,
   "metadata": {},
   "outputs": [
    {
     "data": {
      "text/plain": [
       "<p>Botta, Federico, Robin Lovelace, Laura Gilbert, and Arthur Turrell. \"Packaging code and data for reproducible research: A case study of journey time statistics.\" <i>Environment and Planning B: Urban Analytics and City Science</i> (2024): 23998083241267331. doi: <a href=\"https://doi.org/10.1177/23998083241267331\"><code>10.1177/23998083241267331</code></a></p>"
      ]
     },
     "execution_count": 11,
     "metadata": {},
     "output_type": "execute_result"
    }
   ],
   "source": [
    "# Get all paragraphs\n",
    "all_paras = soup.find_all(\"p\")\n",
    "# Just show one of the paras\n",
    "all_paras[1]"
   ]
  },
  {
   "cell_type": "code",
   "execution_count": 12,
   "metadata": {},
   "outputs": [
    {
     "data": {
      "text/plain": [
       "'Botta, Federico, Robin Lovelace, Laura Gilbert, and Arthur Turrell. \"Packaging code and data for reproducible research: A case study of journey time statistics.\" Environment and Planning B: Urban Analytics and City Science (2024): 23998083241267331. doi: 10.1177/23998083241267331'"
      ]
     },
     "execution_count": 12,
     "metadata": {},
     "output_type": "execute_result"
    }
   ],
   "source": [
    "all_paras[1].text"
   ]
  },
  {
   "cell_type": "code",
   "execution_count": 13,
   "metadata": {},
   "outputs": [
    {
     "data": {
      "text/plain": [
       "['Botta, Federico, Robin Lovelace, Laura Gilbert, and Arthur Turrell. \"Packaging code and data for reproducible research: A case study of journey time statistics.\" Environment and Planning B: Urban Analytics and City Science (2024): 23998083241267331. doi: 10.1177/23998083241267331',\n",
       " 'Kalamara, Eleni, Arthur Turrell, Chris Redl, George Kapetanios, and Sujit Kapadia. \"Making text count: economic forecasting using newspaper text.\" Journal of Applied Econometrics 37, no. 5 (2022): 896-919. doi: 10.1002/jae.2907',\n",
       " 'Turrell, A., Speigner, B., Copple, D., Djumalieva, J. and Thurgood, J., 2021. Is the UK’s productivity puzzle mostly driven by occupational mismatch? An analysis using big data on job vacancies. Labour Economics, 71, p.102013. doi: 10.1016/j.labeco.2021.102013',\n",
       " 'Haldane, Andrew G., and Arthur E. Turrell. \"Drawing on different disciplines: macroeconomic agent-based models.\" Journal of Evolutionary Economics 29 (2019): 39-66. doi: 10.1007/s00191-018-0557-5']"
      ]
     },
     "execution_count": 13,
     "metadata": {},
     "output_type": "execute_result"
    }
   ],
   "source": [
    "projects = soup.find_all(\"div\", class_=\"project-content listing-pub-info\")\n",
    "projects = [x.text.strip() for x in projects]\n",
    "projects[:4]"
   ]
  },
  {
   "cell_type": "code",
   "execution_count": 14,
   "metadata": {},
   "outputs": [
    {
     "name": "stdout",
     "output_type": "stream",
     "text": [
      "Error fetching page www.codingforeconomists.com/page=0: Invalid URL 'www.codingforeconomists.com/page=0': No scheme supplied. Perhaps you meant https://www.codingforeconomists.com/page=0?\n",
      "Error fetching page www.codingforeconomists.com/page=1: Invalid URL 'www.codingforeconomists.com/page=1': No scheme supplied. Perhaps you meant https://www.codingforeconomists.com/page=1?\n",
      "Error fetching page www.codingforeconomists.com/page=2: Invalid URL 'www.codingforeconomists.com/page=2': No scheme supplied. Perhaps you meant https://www.codingforeconomists.com/page=2?\n",
      "Error fetching page www.codingforeconomists.com/page=3: Invalid URL 'www.codingforeconomists.com/page=3': No scheme supplied. Perhaps you meant https://www.codingforeconomists.com/page=3?\n",
      "Error fetching page www.codingforeconomists.com/page=4: Invalid URL 'www.codingforeconomists.com/page=4': No scheme supplied. Perhaps you meant https://www.codingforeconomists.com/page=4?\n",
      "Error fetching page www.codingforeconomists.com/page=5: Invalid URL 'www.codingforeconomists.com/page=5': No scheme supplied. Perhaps you meant https://www.codingforeconomists.com/page=5?\n",
      "Error fetching page www.codingforeconomists.com/page=6: Invalid URL 'www.codingforeconomists.com/page=6': No scheme supplied. Perhaps you meant https://www.codingforeconomists.com/page=6?\n",
      "Error fetching page www.codingforeconomists.com/page=7: Invalid URL 'www.codingforeconomists.com/page=7': No scheme supplied. Perhaps you meant https://www.codingforeconomists.com/page=7?\n",
      "Error fetching page www.codingforeconomists.com/page=8: Invalid URL 'www.codingforeconomists.com/page=8': No scheme supplied. Perhaps you meant https://www.codingforeconomists.com/page=8?\n",
      "Error fetching page www.codingforeconomists.com/page=9: Invalid URL 'www.codingforeconomists.com/page=9': No scheme supplied. Perhaps you meant https://www.codingforeconomists.com/page=9?\n",
      "Error fetching page www.codingforeconomists.com/page=10: Invalid URL 'www.codingforeconomists.com/page=10': No scheme supplied. Perhaps you meant https://www.codingforeconomists.com/page=10?\n",
      "Error fetching page www.codingforeconomists.com/page=11: Invalid URL 'www.codingforeconomists.com/page=11': No scheme supplied. Perhaps you meant https://www.codingforeconomists.com/page=11?\n",
      "Error fetching page www.codingforeconomists.com/page=12: Invalid URL 'www.codingforeconomists.com/page=12': No scheme supplied. Perhaps you meant https://www.codingforeconomists.com/page=12?\n",
      "Error fetching page www.codingforeconomists.com/page=13: Invalid URL 'www.codingforeconomists.com/page=13': No scheme supplied. Perhaps you meant https://www.codingforeconomists.com/page=13?\n",
      "Error fetching page www.codingforeconomists.com/page=14: Invalid URL 'www.codingforeconomists.com/page=14': No scheme supplied. Perhaps you meant https://www.codingforeconomists.com/page=14?\n",
      "Error fetching page www.codingforeconomists.com/page=15: Invalid URL 'www.codingforeconomists.com/page=15': No scheme supplied. Perhaps you meant https://www.codingforeconomists.com/page=15?\n",
      "Error fetching page www.codingforeconomists.com/page=16: Invalid URL 'www.codingforeconomists.com/page=16': No scheme supplied. Perhaps you meant https://www.codingforeconomists.com/page=16?\n",
      "Error fetching page www.codingforeconomists.com/page=17: Invalid URL 'www.codingforeconomists.com/page=17': No scheme supplied. Perhaps you meant https://www.codingforeconomists.com/page=17?\n",
      "Error fetching page www.codingforeconomists.com/page=18: Invalid URL 'www.codingforeconomists.com/page=18': No scheme supplied. Perhaps you meant https://www.codingforeconomists.com/page=18?\n",
      "Error fetching page www.codingforeconomists.com/page=19: Invalid URL 'www.codingforeconomists.com/page=19': No scheme supplied. Perhaps you meant https://www.codingforeconomists.com/page=19?\n",
      "Error fetching page www.codingforeconomists.com/page=20: Invalid URL 'www.codingforeconomists.com/page=20': No scheme supplied. Perhaps you meant https://www.codingforeconomists.com/page=20?\n",
      "Error fetching page www.codingforeconomists.com/page=21: Invalid URL 'www.codingforeconomists.com/page=21': No scheme supplied. Perhaps you meant https://www.codingforeconomists.com/page=21?\n",
      "Error fetching page www.codingforeconomists.com/page=22: Invalid URL 'www.codingforeconomists.com/page=22': No scheme supplied. Perhaps you meant https://www.codingforeconomists.com/page=22?\n",
      "Error fetching page www.codingforeconomists.com/page=23: Invalid URL 'www.codingforeconomists.com/page=23': No scheme supplied. Perhaps you meant https://www.codingforeconomists.com/page=23?\n",
      "Error fetching page www.codingforeconomists.com/page=24: Invalid URL 'www.codingforeconomists.com/page=24': No scheme supplied. Perhaps you meant https://www.codingforeconomists.com/page=24?\n",
      "Error fetching page www.codingforeconomists.com/page=25: Invalid URL 'www.codingforeconomists.com/page=25': No scheme supplied. Perhaps you meant https://www.codingforeconomists.com/page=25?\n",
      "Error fetching page www.codingforeconomists.com/page=26: Invalid URL 'www.codingforeconomists.com/page=26': No scheme supplied. Perhaps you meant https://www.codingforeconomists.com/page=26?\n",
      "Error fetching page www.codingforeconomists.com/page=27: Invalid URL 'www.codingforeconomists.com/page=27': No scheme supplied. Perhaps you meant https://www.codingforeconomists.com/page=27?\n",
      "Error fetching page www.codingforeconomists.com/page=28: Invalid URL 'www.codingforeconomists.com/page=28': No scheme supplied. Perhaps you meant https://www.codingforeconomists.com/page=28?\n",
      "Error fetching page www.codingforeconomists.com/page=29: Invalid URL 'www.codingforeconomists.com/page=29': No scheme supplied. Perhaps you meant https://www.codingforeconomists.com/page=29?\n",
      "Error fetching page www.codingforeconomists.com/page=30: Invalid URL 'www.codingforeconomists.com/page=30': No scheme supplied. Perhaps you meant https://www.codingforeconomists.com/page=30?\n",
      "Error fetching page www.codingforeconomists.com/page=31: Invalid URL 'www.codingforeconomists.com/page=31': No scheme supplied. Perhaps you meant https://www.codingforeconomists.com/page=31?\n",
      "Error fetching page www.codingforeconomists.com/page=32: Invalid URL 'www.codingforeconomists.com/page=32': No scheme supplied. Perhaps you meant https://www.codingforeconomists.com/page=32?\n",
      "Error fetching page www.codingforeconomists.com/page=33: Invalid URL 'www.codingforeconomists.com/page=33': No scheme supplied. Perhaps you meant https://www.codingforeconomists.com/page=33?\n",
      "Error fetching page www.codingforeconomists.com/page=34: Invalid URL 'www.codingforeconomists.com/page=34': No scheme supplied. Perhaps you meant https://www.codingforeconomists.com/page=34?\n",
      "Error fetching page www.codingforeconomists.com/page=35: Invalid URL 'www.codingforeconomists.com/page=35': No scheme supplied. Perhaps you meant https://www.codingforeconomists.com/page=35?\n",
      "Error fetching page www.codingforeconomists.com/page=36: Invalid URL 'www.codingforeconomists.com/page=36': No scheme supplied. Perhaps you meant https://www.codingforeconomists.com/page=36?\n",
      "Error fetching page www.codingforeconomists.com/page=37: Invalid URL 'www.codingforeconomists.com/page=37': No scheme supplied. Perhaps you meant https://www.codingforeconomists.com/page=37?\n",
      "Error fetching page www.codingforeconomists.com/page=38: Invalid URL 'www.codingforeconomists.com/page=38': No scheme supplied. Perhaps you meant https://www.codingforeconomists.com/page=38?\n",
      "Error fetching page www.codingforeconomists.com/page=39: Invalid URL 'www.codingforeconomists.com/page=39': No scheme supplied. Perhaps you meant https://www.codingforeconomists.com/page=39?\n",
      "Error fetching page www.codingforeconomists.com/page=40: Invalid URL 'www.codingforeconomists.com/page=40': No scheme supplied. Perhaps you meant https://www.codingforeconomists.com/page=40?\n",
      "Error fetching page www.codingforeconomists.com/page=41: Invalid URL 'www.codingforeconomists.com/page=41': No scheme supplied. Perhaps you meant https://www.codingforeconomists.com/page=41?\n",
      "Error fetching page www.codingforeconomists.com/page=42: Invalid URL 'www.codingforeconomists.com/page=42': No scheme supplied. Perhaps you meant https://www.codingforeconomists.com/page=42?\n",
      "Error fetching page www.codingforeconomists.com/page=43: Invalid URL 'www.codingforeconomists.com/page=43': No scheme supplied. Perhaps you meant https://www.codingforeconomists.com/page=43?\n",
      "Error fetching page www.codingforeconomists.com/page=44: Invalid URL 'www.codingforeconomists.com/page=44': No scheme supplied. Perhaps you meant https://www.codingforeconomists.com/page=44?\n",
      "Error fetching page www.codingforeconomists.com/page=45: Invalid URL 'www.codingforeconomists.com/page=45': No scheme supplied. Perhaps you meant https://www.codingforeconomists.com/page=45?\n",
      "Error fetching page www.codingforeconomists.com/page=46: Invalid URL 'www.codingforeconomists.com/page=46': No scheme supplied. Perhaps you meant https://www.codingforeconomists.com/page=46?\n",
      "Error fetching page www.codingforeconomists.com/page=47: Invalid URL 'www.codingforeconomists.com/page=47': No scheme supplied. Perhaps you meant https://www.codingforeconomists.com/page=47?\n",
      "Error fetching page www.codingforeconomists.com/page=48: Invalid URL 'www.codingforeconomists.com/page=48': No scheme supplied. Perhaps you meant https://www.codingforeconomists.com/page=48?\n",
      "Error fetching page www.codingforeconomists.com/page=49: Invalid URL 'www.codingforeconomists.com/page=49': No scheme supplied. Perhaps you meant https://www.codingforeconomists.com/page=49?\n",
      "[None, None, None, None, None, None, None, None, None, None, None, None, None, None, None, None, None, None, None, None, None, None, None, None, None, None, None, None, None, None, None, None, None, None, None, None, None, None, None, None, None, None, None, None, None, None, None, None, None, None]\n"
     ]
    }
   ],
   "source": [
    "import requests\n",
    "from bs4 import BeautifulSoup\n",
    "\n",
    "def scraper(url):\n",
    "    try:\n",
    "        response = requests.get(url)\n",
    "        response.raise_for_status()  # 检查请求是否成功，若不成功则抛出异常\n",
    "        soup = BeautifulSoup(response.text, 'html.parser')\n",
    "        return soup.title.string if soup.title else \"No title found\"\n",
    "    except requests.RequestException as e:\n",
    "        print(f\"Error fetching page {url}: {e}\")\n",
    "        return None\n",
    "\n",
    "start, stop = 0, 50\n",
    "root_url = \"www.codingforeconomists.com/page=\"\n",
    "info_on_pages = []\n",
    "for i in range(start, stop):\n",
    "    url = root_url + str(i)\n",
    "    info = scraper(url)\n",
    "    info_on_pages.append(info)\n",
    "\n",
    "print(info_on_pages)\n"
   ]
  },
  {
   "cell_type": "code",
   "execution_count": 15,
   "metadata": {},
   "outputs": [
    {
     "data": {
      "text/html": [
       "<div>\n",
       "<style scoped>\n",
       "    .dataframe tbody tr th:only-of-type {\n",
       "        vertical-align: middle;\n",
       "    }\n",
       "\n",
       "    .dataframe tbody tr th {\n",
       "        vertical-align: top;\n",
       "    }\n",
       "\n",
       "    .dataframe thead th {\n",
       "        text-align: right;\n",
       "    }\n",
       "</style>\n",
       "<table border=\"1\" class=\"dataframe\">\n",
       "  <thead>\n",
       "    <tr style=\"text-align: right;\">\n",
       "      <th></th>\n",
       "      <th>Years</th>\n",
       "      <th>Hosts</th>\n",
       "      <th>Winners</th>\n",
       "      <th>Score</th>\n",
       "      <th>Runner's-up</th>\n",
       "      <th>Third place</th>\n",
       "      <th>Score.1</th>\n",
       "      <th>Fourth place</th>\n",
       "    </tr>\n",
       "  </thead>\n",
       "  <tbody>\n",
       "    <tr>\n",
       "      <th>0</th>\n",
       "      <td>1930 Details</td>\n",
       "      <td>Uruguay</td>\n",
       "      <td>Uruguay</td>\n",
       "      <td>4 - 2</td>\n",
       "      <td>Argentina</td>\n",
       "      <td>United States</td>\n",
       "      <td>[note 1]</td>\n",
       "      <td>Yugoslavia</td>\n",
       "    </tr>\n",
       "    <tr>\n",
       "      <th>1</th>\n",
       "      <td>1934 Details</td>\n",
       "      <td>Italy</td>\n",
       "      <td>Italy</td>\n",
       "      <td>2 - 1</td>\n",
       "      <td>Czechoslovakia</td>\n",
       "      <td>Germany</td>\n",
       "      <td>3 - 2</td>\n",
       "      <td>Austria</td>\n",
       "    </tr>\n",
       "    <tr>\n",
       "      <th>2</th>\n",
       "      <td>1938 Details</td>\n",
       "      <td>France</td>\n",
       "      <td>Italy</td>\n",
       "      <td>4 - 2</td>\n",
       "      <td>Hungary</td>\n",
       "      <td>Brazil</td>\n",
       "      <td>4 - 2</td>\n",
       "      <td>Sweden</td>\n",
       "    </tr>\n",
       "    <tr>\n",
       "      <th>3</th>\n",
       "      <td>1950 Details</td>\n",
       "      <td>Brazil</td>\n",
       "      <td>Uruguay</td>\n",
       "      <td>2 - 1</td>\n",
       "      <td>Brazil</td>\n",
       "      <td>Sweden</td>\n",
       "      <td>[note 2]</td>\n",
       "      <td>Spain</td>\n",
       "    </tr>\n",
       "    <tr>\n",
       "      <th>4</th>\n",
       "      <td>1954 Details</td>\n",
       "      <td>Switzerland</td>\n",
       "      <td>West Germany</td>\n",
       "      <td>3 - 2</td>\n",
       "      <td>Hungary</td>\n",
       "      <td>Austria</td>\n",
       "      <td>3 - 1</td>\n",
       "      <td>Uruguay</td>\n",
       "    </tr>\n",
       "  </tbody>\n",
       "</table>\n",
       "</div>"
      ],
      "text/plain": [
       "          Years        Hosts       Winners  Score     Runner's-up  \\\n",
       "0  1930 Details      Uruguay       Uruguay  4 - 2       Argentina   \n",
       "1  1934 Details        Italy         Italy  2 - 1  Czechoslovakia   \n",
       "2  1938 Details       France         Italy  4 - 2         Hungary   \n",
       "3  1950 Details       Brazil       Uruguay  2 - 1          Brazil   \n",
       "4  1954 Details  Switzerland  West Germany  3 - 2         Hungary   \n",
       "\n",
       "     Third place   Score.1 Fourth place  \n",
       "0  United States  [note 1]   Yugoslavia  \n",
       "1        Germany     3 - 2      Austria  \n",
       "2         Brazil     4 - 2       Sweden  \n",
       "3         Sweden  [note 2]        Spain  \n",
       "4        Austria     3 - 1      Uruguay  "
      ]
     },
     "execution_count": 15,
     "metadata": {},
     "output_type": "execute_result"
    }
   ],
   "source": [
    "df_list = pd.read_html(\n",
    "    \"https://simple.wikipedia.org/wiki/FIFA_World_Cup\", match=\"Sweden\"\n",
    ")\n",
    "# Retrieve first and only entry from list of dataframes\n",
    "df = df_list[0]\n",
    "df.head()"
   ]
  },
  {
   "cell_type": "markdown",
   "metadata": {},
   "source": [
    "pdf part"
   ]
  },
  {
   "cell_type": "code",
   "execution_count": 16,
   "metadata": {},
   "outputs": [
    {
     "name": "stdout",
     "output_type": "stream",
     "text": [
      "3 \n",
      " 2 Quantifying Fuel -Saving Opportunit ies from Specific Driving \n",
      "Behavior Changes  \n",
      "2.1 Savings from Improving Individual Driving  Profiles  \n",
      "2.1.1  Drive Profile Subsample from Real -World Travel Survey  \n",
      "The interi\n"
     ]
    }
   ],
   "source": [
    "import PyPDF2\n",
    "from pathlib import Path\n",
    "\n",
    "def read_pdf_text(file_path):\n",
    "    text = \"\"\n",
    "    with open(file_path, 'rb') as file:\n",
    "        reader = PyPDF2.PdfReader(file)\n",
    "        for page in reader.pages:\n",
    "            text += page.extract_text()\n",
    "    return text\n",
    "\n",
    "pdf_file_path = Path(\"data/pdf_with_table.pdf\")\n",
    "pdf_text = read_pdf_text(pdf_file_path)\n",
    "print(pdf_text[:220])"
   ]
  },
  {
   "cell_type": "code",
   "execution_count": 17,
   "metadata": {},
   "outputs": [
    {
     "name": "stderr",
     "output_type": "stream",
     "text": [
      "Failed to import jpype dependencies. Fallback to subprocess.\n",
      "No module named 'jpype'\n"
     ]
    },
    {
     "name": "stdout",
     "output_type": "stream",
     "text": [
      "  Unnamed: 0 Unnamed: 1 Unnamed: 2 Unnamed: 3 Percent Fuel Savings Unnamed: 4\n",
      "0      Cycle         KI   Distance        NaN                  NaN        NaN\n",
      "1       Name     (1/km)       (mi)   Improved  Decreased Eliminate  Decreased\n",
      "2        NaN        NaN        NaN      Speed          Accel Stops       Idle\n",
      "3     2012_2       3.30        1.3       5.9%           9.5% 29.2%      17.4%\n",
      "4     2145_1       0.68       11.2       2.4%            0.1% 9.5%       2.7%\n",
      "5     4234_1       0.59       58.7       8.5%            1.3% 8.5%       3.3%\n",
      "6     2032_2       0.17       57.8      21.7%            0.3% 2.7%       1.2%\n",
      "7     4171_1       0.07      173.9      58.1%            1.6% 2.1%       0.5%\n"
     ]
    }
   ],
   "source": [
    "import tabula\n",
    "import os\n",
    "\n",
    "# 设置 PDF 文件路径\n",
    "pdf_path = os.path.join('data', 'pdf_with_table.pdf')\n",
    "\n",
    "# 使用 tabula 读取 PDF 中的表格数据\n",
    "tables = tabula.read_pdf(pdf_path, pages='all')\n",
    "\n",
    "# 打印第一个表格的数据（你可以根据实际需求修改处理方式）\n",
    "if len(tables) > 0:\n",
    "    print(tables[0])"
   ]
  }
 ],
 "metadata": {
  "kernelspec": {
   "display_name": "Python 3",
   "language": "python",
   "name": "python3"
  },
  "language_info": {
   "codemirror_mode": {
    "name": "ipython",
    "version": 3
   },
   "file_extension": ".py",
   "mimetype": "text/x-python",
   "name": "python",
   "nbconvert_exporter": "python",
   "pygments_lexer": "ipython3",
   "version": "3.10.7"
  }
 },
 "nbformat": 4,
 "nbformat_minor": 2
}
